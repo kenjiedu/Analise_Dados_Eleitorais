{
 "cells": [
  {
   "cell_type": "code",
   "execution_count": 2,
   "metadata": {},
   "outputs": [],
   "source": [
    "import pandas as pd"
   ]
  },
  {
   "cell_type": "code",
   "execution_count": 4,
   "metadata": {},
   "outputs": [],
   "source": [
    "df = pd.read_csv('perfil_eleitor_secao_2016_SP.csv',encoding='cp1252',sep=';')"
   ]
  },
  {
   "cell_type": "code",
   "execution_count": 38,
   "metadata": {},
   "outputs": [],
   "source": [
    "eleicoes2014 = pd.read_csv('perfil_eleitor_secao_2014_SP.csv',encoding='cp1252',sep=';')"
   ]
  },
  {
   "cell_type": "code",
   "execution_count": 40,
   "metadata": {},
   "outputs": [],
   "source": [
    "eleicoes2020 = pd.read_csv('perfil_eleitor_secao_2020_SP.csv',encoding='cp1252',sep=';')"
   ]
  },
  {
   "cell_type": "code",
   "execution_count": 59,
   "metadata": {},
   "outputs": [],
   "source": [
    "eleicoes2012 = pd.read_csv('perfil_eleitor_secao_2012_SP.csv',encoding='cp1252',sep=';')"
   ]
  },
  {
   "cell_type": "code",
   "execution_count": 6,
   "metadata": {},
   "outputs": [
    {
     "data": {
      "text/html": [
       "<div>\n",
       "<style scoped>\n",
       "    .dataframe tbody tr th:only-of-type {\n",
       "        vertical-align: middle;\n",
       "    }\n",
       "\n",
       "    .dataframe tbody tr th {\n",
       "        vertical-align: top;\n",
       "    }\n",
       "\n",
       "    .dataframe thead th {\n",
       "        text-align: right;\n",
       "    }\n",
       "</style>\n",
       "<table border=\"1\" class=\"dataframe\">\n",
       "  <thead>\n",
       "    <tr style=\"text-align: right;\">\n",
       "      <th></th>\n",
       "      <th>DT_GERACAO</th>\n",
       "      <th>HH_GERACAO</th>\n",
       "      <th>ANO_ELEICAO</th>\n",
       "      <th>SG_UF</th>\n",
       "      <th>CD_MUNICIPIO</th>\n",
       "      <th>NM_MUNICIPIO</th>\n",
       "      <th>CD_MUN_SIT_BIOMETRIA</th>\n",
       "      <th>DS_MUN_SIT_BIOMETRIA</th>\n",
       "      <th>NR_ZONA</th>\n",
       "      <th>NR_SECAO</th>\n",
       "      <th>...</th>\n",
       "      <th>CD_ESTADO_CIVIL</th>\n",
       "      <th>DS_ESTADO_CIVIL</th>\n",
       "      <th>CD_FAIXA_ETARIA</th>\n",
       "      <th>DS_FAIXA_ETARIA</th>\n",
       "      <th>CD_GRAU_ESCOLARIDADE</th>\n",
       "      <th>DS_GRAU_ESCOLARIDADE</th>\n",
       "      <th>QT_ELEITORES_PERFIL</th>\n",
       "      <th>QT_ELEITORES_BIOMETRIA</th>\n",
       "      <th>QT_ELEITORES_DEFICIENCIA</th>\n",
       "      <th>QT_ELEITORES_INC_NM_SOCIAL</th>\n",
       "    </tr>\n",
       "  </thead>\n",
       "  <tbody>\n",
       "    <tr>\n",
       "      <th>0</th>\n",
       "      <td>07/08/2018</td>\n",
       "      <td>19:38:26</td>\n",
       "      <td>2016</td>\n",
       "      <td>SP</td>\n",
       "      <td>62197</td>\n",
       "      <td>BAURU</td>\n",
       "      <td>0</td>\n",
       "      <td>Sem biometria</td>\n",
       "      <td>300</td>\n",
       "      <td>98</td>\n",
       "      <td>...</td>\n",
       "      <td>3</td>\n",
       "      <td>CASADO</td>\n",
       "      <td>5559</td>\n",
       "      <td>55 a 59 anos</td>\n",
       "      <td>3</td>\n",
       "      <td>ENSINO FUNDAMENTAL INCOMPLETO</td>\n",
       "      <td>2</td>\n",
       "      <td>0</td>\n",
       "      <td>0</td>\n",
       "      <td>0</td>\n",
       "    </tr>\n",
       "    <tr>\n",
       "      <th>1</th>\n",
       "      <td>07/08/2018</td>\n",
       "      <td>19:38:26</td>\n",
       "      <td>2016</td>\n",
       "      <td>SP</td>\n",
       "      <td>62197</td>\n",
       "      <td>BAURU</td>\n",
       "      <td>0</td>\n",
       "      <td>Sem biometria</td>\n",
       "      <td>300</td>\n",
       "      <td>98</td>\n",
       "      <td>...</td>\n",
       "      <td>3</td>\n",
       "      <td>CASADO</td>\n",
       "      <td>6569</td>\n",
       "      <td>65 a 69 anos</td>\n",
       "      <td>2</td>\n",
       "      <td>LÊ E ESCREVE</td>\n",
       "      <td>2</td>\n",
       "      <td>0</td>\n",
       "      <td>0</td>\n",
       "      <td>0</td>\n",
       "    </tr>\n",
       "    <tr>\n",
       "      <th>2</th>\n",
       "      <td>07/08/2018</td>\n",
       "      <td>19:38:26</td>\n",
       "      <td>2016</td>\n",
       "      <td>SP</td>\n",
       "      <td>62197</td>\n",
       "      <td>BAURU</td>\n",
       "      <td>0</td>\n",
       "      <td>Sem biometria</td>\n",
       "      <td>300</td>\n",
       "      <td>99</td>\n",
       "      <td>...</td>\n",
       "      <td>1</td>\n",
       "      <td>SOLTEIRO</td>\n",
       "      <td>3034</td>\n",
       "      <td>30 a 34 anos</td>\n",
       "      <td>3</td>\n",
       "      <td>ENSINO FUNDAMENTAL INCOMPLETO</td>\n",
       "      <td>2</td>\n",
       "      <td>0</td>\n",
       "      <td>0</td>\n",
       "      <td>0</td>\n",
       "    </tr>\n",
       "    <tr>\n",
       "      <th>3</th>\n",
       "      <td>07/08/2018</td>\n",
       "      <td>19:38:26</td>\n",
       "      <td>2016</td>\n",
       "      <td>SP</td>\n",
       "      <td>62197</td>\n",
       "      <td>BAURU</td>\n",
       "      <td>0</td>\n",
       "      <td>Sem biometria</td>\n",
       "      <td>300</td>\n",
       "      <td>99</td>\n",
       "      <td>...</td>\n",
       "      <td>1</td>\n",
       "      <td>SOLTEIRO</td>\n",
       "      <td>3539</td>\n",
       "      <td>35 a 39 anos</td>\n",
       "      <td>3</td>\n",
       "      <td>ENSINO FUNDAMENTAL INCOMPLETO</td>\n",
       "      <td>8</td>\n",
       "      <td>0</td>\n",
       "      <td>0</td>\n",
       "      <td>0</td>\n",
       "    </tr>\n",
       "    <tr>\n",
       "      <th>4</th>\n",
       "      <td>07/08/2018</td>\n",
       "      <td>19:38:26</td>\n",
       "      <td>2016</td>\n",
       "      <td>SP</td>\n",
       "      <td>62197</td>\n",
       "      <td>BAURU</td>\n",
       "      <td>0</td>\n",
       "      <td>Sem biometria</td>\n",
       "      <td>300</td>\n",
       "      <td>99</td>\n",
       "      <td>...</td>\n",
       "      <td>1</td>\n",
       "      <td>SOLTEIRO</td>\n",
       "      <td>7579</td>\n",
       "      <td>75 a 79 anos</td>\n",
       "      <td>3</td>\n",
       "      <td>ENSINO FUNDAMENTAL INCOMPLETO</td>\n",
       "      <td>1</td>\n",
       "      <td>0</td>\n",
       "      <td>0</td>\n",
       "      <td>0</td>\n",
       "    </tr>\n",
       "  </tbody>\n",
       "</table>\n",
       "<p>5 rows × 22 columns</p>\n",
       "</div>"
      ],
      "text/plain": [
       "   DT_GERACAO HH_GERACAO  ANO_ELEICAO SG_UF  CD_MUNICIPIO NM_MUNICIPIO  \\\n",
       "0  07/08/2018   19:38:26         2016    SP         62197        BAURU   \n",
       "1  07/08/2018   19:38:26         2016    SP         62197        BAURU   \n",
       "2  07/08/2018   19:38:26         2016    SP         62197        BAURU   \n",
       "3  07/08/2018   19:38:26         2016    SP         62197        BAURU   \n",
       "4  07/08/2018   19:38:26         2016    SP         62197        BAURU   \n",
       "\n",
       "   CD_MUN_SIT_BIOMETRIA DS_MUN_SIT_BIOMETRIA  NR_ZONA  NR_SECAO  ...  \\\n",
       "0                     0        Sem biometria      300        98  ...   \n",
       "1                     0        Sem biometria      300        98  ...   \n",
       "2                     0        Sem biometria      300        99  ...   \n",
       "3                     0        Sem biometria      300        99  ...   \n",
       "4                     0        Sem biometria      300        99  ...   \n",
       "\n",
       "   CD_ESTADO_CIVIL DS_ESTADO_CIVIL  CD_FAIXA_ETARIA  \\\n",
       "0                3          CASADO             5559   \n",
       "1                3          CASADO             6569   \n",
       "2                1        SOLTEIRO             3034   \n",
       "3                1        SOLTEIRO             3539   \n",
       "4                1        SOLTEIRO             7579   \n",
       "\n",
       "                  DS_FAIXA_ETARIA  CD_GRAU_ESCOLARIDADE  \\\n",
       "0  55 a 59 anos                                       3   \n",
       "1  65 a 69 anos                                       2   \n",
       "2  30 a 34 anos                                       3   \n",
       "3  35 a 39 anos                                       3   \n",
       "4  75 a 79 anos                                       3   \n",
       "\n",
       "            DS_GRAU_ESCOLARIDADE  QT_ELEITORES_PERFIL QT_ELEITORES_BIOMETRIA  \\\n",
       "0  ENSINO FUNDAMENTAL INCOMPLETO                    2                      0   \n",
       "1                   LÊ E ESCREVE                    2                      0   \n",
       "2  ENSINO FUNDAMENTAL INCOMPLETO                    2                      0   \n",
       "3  ENSINO FUNDAMENTAL INCOMPLETO                    8                      0   \n",
       "4  ENSINO FUNDAMENTAL INCOMPLETO                    1                      0   \n",
       "\n",
       "   QT_ELEITORES_DEFICIENCIA  QT_ELEITORES_INC_NM_SOCIAL  \n",
       "0                         0                           0  \n",
       "1                         0                           0  \n",
       "2                         0                           0  \n",
       "3                         0                           0  \n",
       "4                         0                           0  \n",
       "\n",
       "[5 rows x 22 columns]"
      ]
     },
     "execution_count": 6,
     "metadata": {},
     "output_type": "execute_result"
    }
   ],
   "source": [
    "df.head()"
   ]
  },
  {
   "cell_type": "code",
   "execution_count": 50,
   "metadata": {},
   "outputs": [
    {
     "data": {
      "text/plain": [
       "ENSINO FUNDAMENTAL INCOMPLETO    40538\n",
       "ENSINO MÉDIO COMPLETO            38449\n",
       "ENSINO FUNDAMENTAL COMPLETO      23436\n",
       "ENSINO MÉDIO INCOMPLETO          23294\n",
       "SUPERIOR COMPLETO                18355\n",
       "LÊ E ESCREVE                     13283\n",
       "SUPERIOR INCOMPLETO              12212\n",
       "ANALFABETO                        6267\n",
       "Name: DS_GRAU_ESCOLARIDADE, dtype: int64"
      ]
     },
     "execution_count": 50,
     "metadata": {},
     "output_type": "execute_result"
    }
   ],
   "source": [
    "saoJose2014 = eleicoes2014[eleicoes2014.CD_MUNICIPIO ==70998]\n",
    "saoJose2014['DS_GRAU_ESCOLARIDADE'].value_counts()"
   ]
  },
  {
   "cell_type": "code",
   "execution_count": 51,
   "metadata": {},
   "outputs": [
    {
     "data": {
      "text/plain": [
       "ENSINO MÉDIO COMPLETO            67253\n",
       "ENSINO FUNDAMENTAL INCOMPLETO    44991\n",
       "SUPERIOR COMPLETO                43551\n",
       "ENSINO MÉDIO INCOMPLETO          28574\n",
       "ENSINO FUNDAMENTAL COMPLETO      27013\n",
       "SUPERIOR INCOMPLETO              21578\n",
       "LÊ E ESCREVE                      9594\n",
       "ANALFABETO                        6738\n",
       "Name: DS_GRAU_ESCOLARIDADE, dtype: int64"
      ]
     },
     "execution_count": 51,
     "metadata": {},
     "output_type": "execute_result"
    }
   ],
   "source": [
    "saoJose2020 = eleicoes2020[eleicoes2020.CD_MUNICIPIO ==70998]\n",
    "saoJose2020['DS_GRAU_ESCOLARIDADE'].value_counts()"
   ]
  },
  {
   "cell_type": "code",
   "execution_count": 5,
   "metadata": {},
   "outputs": [],
   "source": [
    "saoJose = df[df.CD_MUNICIPIO ==70998]"
   ]
  },
  {
   "cell_type": "code",
   "execution_count": 60,
   "metadata": {},
   "outputs": [],
   "source": [
    "saoJose2012 = eleicoes2012[eleicoes2012.CD_MUNICIPIO ==70998]"
   ]
  },
  {
   "cell_type": "code",
   "execution_count": 12,
   "metadata": {},
   "outputs": [
    {
     "data": {
      "text/html": [
       "<div>\n",
       "<style scoped>\n",
       "    .dataframe tbody tr th:only-of-type {\n",
       "        vertical-align: middle;\n",
       "    }\n",
       "\n",
       "    .dataframe tbody tr th {\n",
       "        vertical-align: top;\n",
       "    }\n",
       "\n",
       "    .dataframe thead th {\n",
       "        text-align: right;\n",
       "    }\n",
       "</style>\n",
       "<table border=\"1\" class=\"dataframe\">\n",
       "  <thead>\n",
       "    <tr style=\"text-align: right;\">\n",
       "      <th></th>\n",
       "      <th>DS_FAIXA_ETARIA</th>\n",
       "      <th>CD_GRAU_ESCOLARIDADE</th>\n",
       "      <th>DS_GRAU_ESCOLARIDADE</th>\n",
       "    </tr>\n",
       "  </thead>\n",
       "  <tbody>\n",
       "    <tr>\n",
       "      <th>784025</th>\n",
       "      <td>30 a 34 anos</td>\n",
       "      <td>7</td>\n",
       "      <td>SUPERIOR INCOMPLETO</td>\n",
       "    </tr>\n",
       "    <tr>\n",
       "      <th>784026</th>\n",
       "      <td>40 a 44 anos</td>\n",
       "      <td>8</td>\n",
       "      <td>SUPERIOR COMPLETO</td>\n",
       "    </tr>\n",
       "    <tr>\n",
       "      <th>784027</th>\n",
       "      <td>60 a 64 anos</td>\n",
       "      <td>1</td>\n",
       "      <td>ANALFABETO</td>\n",
       "    </tr>\n",
       "    <tr>\n",
       "      <th>784028</th>\n",
       "      <td>35 a 39 anos</td>\n",
       "      <td>3</td>\n",
       "      <td>ENSINO FUNDAMENTAL INCOMPLETO</td>\n",
       "    </tr>\n",
       "    <tr>\n",
       "      <th>784029</th>\n",
       "      <td>40 a 44 anos</td>\n",
       "      <td>7</td>\n",
       "      <td>SUPERIOR INCOMPLETO</td>\n",
       "    </tr>\n",
       "    <tr>\n",
       "      <th>...</th>\n",
       "      <td>...</td>\n",
       "      <td>...</td>\n",
       "      <td>...</td>\n",
       "    </tr>\n",
       "    <tr>\n",
       "      <th>785149</th>\n",
       "      <td>20 anos</td>\n",
       "      <td>3</td>\n",
       "      <td>ENSINO FUNDAMENTAL INCOMPLETO</td>\n",
       "    </tr>\n",
       "    <tr>\n",
       "      <th>785150</th>\n",
       "      <td>30 a 34 anos</td>\n",
       "      <td>5</td>\n",
       "      <td>ENSINO MÉDIO INCOMPLETO</td>\n",
       "    </tr>\n",
       "    <tr>\n",
       "      <th>785151</th>\n",
       "      <td>30 a 34 anos</td>\n",
       "      <td>6</td>\n",
       "      <td>ENSINO MÉDIO COMPLETO</td>\n",
       "    </tr>\n",
       "    <tr>\n",
       "      <th>785152</th>\n",
       "      <td>40 a 44 anos</td>\n",
       "      <td>7</td>\n",
       "      <td>SUPERIOR INCOMPLETO</td>\n",
       "    </tr>\n",
       "    <tr>\n",
       "      <th>785153</th>\n",
       "      <td>45 a 49 anos</td>\n",
       "      <td>6</td>\n",
       "      <td>ENSINO MÉDIO COMPLETO</td>\n",
       "    </tr>\n",
       "  </tbody>\n",
       "</table>\n",
       "<p>100 rows × 3 columns</p>\n",
       "</div>"
      ],
      "text/plain": [
       "                       DS_FAIXA_ETARIA  CD_GRAU_ESCOLARIDADE  \\\n",
       "784025  30 a 34 anos                                       7   \n",
       "784026  40 a 44 anos                                       8   \n",
       "784027  60 a 64 anos                                       1   \n",
       "784028  35 a 39 anos                                       3   \n",
       "784029  40 a 44 anos                                       7   \n",
       "...                                ...                   ...   \n",
       "785149  20 anos                                            3   \n",
       "785150  30 a 34 anos                                       5   \n",
       "785151  30 a 34 anos                                       6   \n",
       "785152  40 a 44 anos                                       7   \n",
       "785153  45 a 49 anos                                       6   \n",
       "\n",
       "                 DS_GRAU_ESCOLARIDADE  \n",
       "784025            SUPERIOR INCOMPLETO  \n",
       "784026              SUPERIOR COMPLETO  \n",
       "784027                     ANALFABETO  \n",
       "784028  ENSINO FUNDAMENTAL INCOMPLETO  \n",
       "784029            SUPERIOR INCOMPLETO  \n",
       "...                               ...  \n",
       "785149  ENSINO FUNDAMENTAL INCOMPLETO  \n",
       "785150        ENSINO MÉDIO INCOMPLETO  \n",
       "785151          ENSINO MÉDIO COMPLETO  \n",
       "785152            SUPERIOR INCOMPLETO  \n",
       "785153          ENSINO MÉDIO COMPLETO  \n",
       "\n",
       "[100 rows x 3 columns]"
      ]
     },
     "execution_count": 12,
     "metadata": {},
     "output_type": "execute_result"
    }
   ],
   "source": [
    "saoJose.iloc[0:100,15:18]"
   ]
  },
  {
   "cell_type": "code",
   "execution_count": 12,
   "metadata": {},
   "outputs": [
    {
     "data": {
      "text/plain": [
       "<AxesSubplot:xlabel='DS_FAIXA_ETARIA'>"
      ]
     },
     "execution_count": 12,
     "metadata": {},
     "output_type": "execute_result"
    },
    {
     "data": {
      "image/png": "[encoded data removed]",
      "text/plain": [
       "<Figure size 432x288 with 1 Axes>"
      ]
     },
     "metadata": {
      "needs_background": "light"
     },
     "output_type": "display_data"
    }
   ],
   "source": [
    "saoJose.tail(10).plot(kind='bar', x='DS_FAIXA_ETARIA',y='CD_GRAU_ESCOLARIDADE',color='blue')"
   ]
  },
  {
   "cell_type": "code",
   "execution_count": 35,
   "metadata": {},
   "outputs": [
    {
     "data": {
      "text/plain": [
       "ENSINO MÉDIO COMPLETO            43491\n",
       "ENSINO FUNDAMENTAL INCOMPLETO    41544\n",
       "ENSINO MÉDIO INCOMPLETO          24780\n",
       "ENSINO FUNDAMENTAL COMPLETO      23813\n",
       "SUPERIOR COMPLETO                22213\n",
       "SUPERIOR INCOMPLETO              14183\n",
       "LÊ E ESCREVE                     12610\n",
       "ANALFABETO                        6296\n",
       "Name: DS_GRAU_ESCOLARIDADE, dtype: int64"
      ]
     },
     "execution_count": 35,
     "metadata": {},
     "output_type": "execute_result"
    }
   ],
   "source": [
    "saoJose['DS_GRAU_ESCOLARIDADE'].value_counts()"
   ]
  },
  {
   "cell_type": "code",
   "execution_count": 34,
   "metadata": {},
   "outputs": [
    {
     "data": {
      "image/png": "[encoded data removed]",
      "text/plain": [
       "<Figure size 432x288 with 1 Axes>"
      ]
     },
     "metadata": {
      "needs_background": "light"
     },
     "output_type": "display_data"
    }
   ],
   "source": [
    "import matplotlib.pyplot as plt\n",
    "import pandas as pd\n",
    "prob = saoJose['DS_GRAU_ESCOLARIDADE'].value_counts()\n",
    "threshold = 0.02\n",
    "mask = prob > threshold\n",
    "tail_prob = prob.loc[~mask].sum()\n",
    "prob = prob.loc[mask]\n",
    "#prob['other'] = tail_prob\n",
    "prob.plot(kind='bar')\n",
    "plt.xticks()\n",
    "plt.show()"
   ]
  },
  {
   "cell_type": "code",
   "execution_count": 61,
   "metadata": {},
   "outputs": [
    {
     "data": {
      "text/plain": [
       "<matplotlib.legend.Legend at 0x26eb571bc10>"
      ]
     },
     "execution_count": 61,
     "metadata": {},
     "output_type": "execute_result"
    },
    {
     "data": {
      "image/png": "[encoded data removed]",
      "text/plain": [
       "<Figure size 432x288 with 1 Axes>"
      ]
     },
     "metadata": {
      "needs_background": "light"
     },
     "output_type": "display_data"
    }
   ],
   "source": [
    "df = saoJose['DS_GRAU_ESCOLARIDADE'].value_counts().rename_axis('GRAU_ESCOLARIDADE').reset_index(name='counts')\n",
    "gf = saoJose2020['DS_GRAU_ESCOLARIDADE'].value_counts().rename_axis('GRAU_ESCOLARIDADE').reset_index(name='counts')\n",
    "hf = saoJose2014['DS_GRAU_ESCOLARIDADE'].value_counts().rename_axis('GRAU_ESCOLARIDADE').reset_index(name='counts')\n",
    "lf = saoJose2012['DS_GRAU_ESCOLARIDADE'].value_counts().rename_axis('GRAU_ESCOLARIDADE').reset_index(name='counts')\n"
   ]
  },
  {
   "cell_type": "code",
   "execution_count": 63,
   "metadata": {},
   "outputs": [
    {
     "data": {
      "text/html": [
       "<div>\n",
       "<style scoped>\n",
       "    .dataframe tbody tr th:only-of-type {\n",
       "        vertical-align: middle;\n",
       "    }\n",
       "\n",
       "    .dataframe tbody tr th {\n",
       "        vertical-align: top;\n",
       "    }\n",
       "\n",
       "    .dataframe thead th {\n",
       "        text-align: right;\n",
       "    }\n",
       "</style>\n",
       "<table border=\"1\" class=\"dataframe\">\n",
       "  <thead>\n",
       "    <tr style=\"text-align: right;\">\n",
       "      <th></th>\n",
       "      <th>GRAU_ESCOLARIDADE</th>\n",
       "      <th>counts</th>\n",
       "      <th>ANO</th>\n",
       "    </tr>\n",
       "  </thead>\n",
       "  <tbody>\n",
       "    <tr>\n",
       "      <th>0</th>\n",
       "      <td>ENSINO MÉDIO COMPLETO</td>\n",
       "      <td>43491</td>\n",
       "      <td>2016</td>\n",
       "    </tr>\n",
       "    <tr>\n",
       "      <th>1</th>\n",
       "      <td>ENSINO FUNDAMENTAL INCOMPLETO</td>\n",
       "      <td>41544</td>\n",
       "      <td>2016</td>\n",
       "    </tr>\n",
       "    <tr>\n",
       "      <th>2</th>\n",
       "      <td>ENSINO MÉDIO INCOMPLETO</td>\n",
       "      <td>24780</td>\n",
       "      <td>2016</td>\n",
       "    </tr>\n",
       "    <tr>\n",
       "      <th>3</th>\n",
       "      <td>ENSINO FUNDAMENTAL COMPLETO</td>\n",
       "      <td>23813</td>\n",
       "      <td>2016</td>\n",
       "    </tr>\n",
       "    <tr>\n",
       "      <th>4</th>\n",
       "      <td>SUPERIOR COMPLETO</td>\n",
       "      <td>22213</td>\n",
       "      <td>2016</td>\n",
       "    </tr>\n",
       "    <tr>\n",
       "      <th>5</th>\n",
       "      <td>SUPERIOR INCOMPLETO</td>\n",
       "      <td>14183</td>\n",
       "      <td>2016</td>\n",
       "    </tr>\n",
       "    <tr>\n",
       "      <th>6</th>\n",
       "      <td>LÊ E ESCREVE</td>\n",
       "      <td>12610</td>\n",
       "      <td>2016</td>\n",
       "    </tr>\n",
       "    <tr>\n",
       "      <th>7</th>\n",
       "      <td>ANALFABETO</td>\n",
       "      <td>6296</td>\n",
       "      <td>2016</td>\n",
       "    </tr>\n",
       "  </tbody>\n",
       "</table>\n",
       "</div>"
      ],
      "text/plain": [
       "               GRAU_ESCOLARIDADE  counts   ANO\n",
       "0          ENSINO MÉDIO COMPLETO   43491  2016\n",
       "1  ENSINO FUNDAMENTAL INCOMPLETO   41544  2016\n",
       "2        ENSINO MÉDIO INCOMPLETO   24780  2016\n",
       "3    ENSINO FUNDAMENTAL COMPLETO   23813  2016\n",
       "4              SUPERIOR COMPLETO   22213  2016\n",
       "5            SUPERIOR INCOMPLETO   14183  2016\n",
       "6                   LÊ E ESCREVE   12610  2016\n",
       "7                     ANALFABETO    6296  2016"
      ]
     },
     "execution_count": 63,
     "metadata": {},
     "output_type": "execute_result"
    }
   ],
   "source": [
    "df['ANO']=2016\n",
    "lf['ANO']=2012\n",
    "gf['ANO']=2020\n",
    "\n",
    "df"
   ]
  },
  {
   "cell_type": "code",
   "execution_count": 88,
   "metadata": {
    "scrolled": true
   },
   "outputs": [
    {
     "ename": "KeyError",
     "evalue": "'ANO'",
     "output_type": "error",
     "traceback": [
      "\u001b[1;31m---------------------------------------------------------------------------\u001b[0m",
      "\u001b[1;31mKeyError\u001b[0m                                  Traceback (most recent call last)",
      "\u001b[1;32m<ipython-input-88-d247943f2b86>\u001b[0m in \u001b[0;36m<module>\u001b[1;34m\u001b[0m\n\u001b[1;32m----> 1\u001b[1;33m \u001b[0mplt\u001b[0m\u001b[1;33m.\u001b[0m\u001b[0mbar\u001b[0m\u001b[1;33m(\u001b[0m\u001b[0mresult\u001b[0m\u001b[1;33m.\u001b[0m\u001b[0mGRAU_ESCOLARIDADE\u001b[0m\u001b[1;33m,\u001b[0m\u001b[0mresult\u001b[0m\u001b[1;33m.\u001b[0m\u001b[0mcounts\u001b[0m\u001b[1;33m.\u001b[0m\u001b[0mgroupby\u001b[0m\u001b[1;33m(\u001b[0m\u001b[1;34m'ANO'\u001b[0m\u001b[1;33m)\u001b[0m\u001b[1;33m,\u001b[0m \u001b[0mlabel\u001b[0m\u001b[1;33m=\u001b[0m\u001b[0mgf\u001b[0m\u001b[1;33m.\u001b[0m\u001b[0mANO\u001b[0m\u001b[1;33m.\u001b[0m\u001b[0munique\u001b[0m\u001b[1;33m(\u001b[0m\u001b[1;33m)\u001b[0m\u001b[1;33m)\u001b[0m\u001b[1;33m\u001b[0m\u001b[1;33m\u001b[0m\u001b[0m\n\u001b[0m\u001b[0;32m      2\u001b[0m \u001b[0mplt\u001b[0m\u001b[1;33m.\u001b[0m\u001b[0mbar\u001b[0m\u001b[1;33m(\u001b[0m\u001b[0mresult\u001b[0m\u001b[1;33m.\u001b[0m\u001b[0mGRAU_ESCOLARIDADE\u001b[0m\u001b[1;33m,\u001b[0m\u001b[0mresult\u001b[0m\u001b[1;33m.\u001b[0m\u001b[0mcounts\u001b[0m\u001b[1;33m.\u001b[0m\u001b[0mgroupby\u001b[0m\u001b[1;33m(\u001b[0m\u001b[1;34m'ANO'\u001b[0m\u001b[1;33m)\u001b[0m\u001b[1;33m,\u001b[0m \u001b[0mlabel\u001b[0m\u001b[1;33m=\u001b[0m\u001b[0mdf\u001b[0m\u001b[1;33m.\u001b[0m\u001b[0mANO\u001b[0m\u001b[1;33m.\u001b[0m\u001b[0munique\u001b[0m\u001b[1;33m(\u001b[0m\u001b[1;33m)\u001b[0m\u001b[1;33m)\u001b[0m\u001b[1;33m\u001b[0m\u001b[1;33m\u001b[0m\u001b[0m\n\u001b[0;32m      3\u001b[0m \u001b[0mplt\u001b[0m\u001b[1;33m.\u001b[0m\u001b[0mbar\u001b[0m\u001b[1;33m(\u001b[0m\u001b[0mresult\u001b[0m\u001b[1;33m.\u001b[0m\u001b[0mGRAU_ESCOLARIDADE\u001b[0m\u001b[1;33m,\u001b[0m\u001b[0mresult\u001b[0m\u001b[1;33m.\u001b[0m\u001b[0mcounts\u001b[0m\u001b[1;33m.\u001b[0m\u001b[0mgroupby\u001b[0m\u001b[1;33m(\u001b[0m\u001b[1;34m'ANO'\u001b[0m\u001b[1;33m)\u001b[0m\u001b[1;33m,\u001b[0m \u001b[0mlabel\u001b[0m\u001b[1;33m=\u001b[0m\u001b[0mlf\u001b[0m\u001b[1;33m.\u001b[0m\u001b[0mANO\u001b[0m\u001b[1;33m.\u001b[0m\u001b[0munique\u001b[0m\u001b[1;33m(\u001b[0m\u001b[1;33m)\u001b[0m\u001b[1;33m)\u001b[0m\u001b[1;33m\u001b[0m\u001b[1;33m\u001b[0m\u001b[0m\n\u001b[0;32m      4\u001b[0m \u001b[0mplt\u001b[0m\u001b[1;33m.\u001b[0m\u001b[0mlegend\u001b[0m\u001b[1;33m(\u001b[0m\u001b[1;33m)\u001b[0m\u001b[1;33m\u001b[0m\u001b[1;33m\u001b[0m\u001b[0m\n",
      "\u001b[1;32mc:\\python38\\lib\\site-packages\\pandas\\core\\series.py\u001b[0m in \u001b[0;36mgroupby\u001b[1;34m(self, by, axis, level, as_index, sort, group_keys, squeeze, observed, dropna)\u001b[0m\n\u001b[0;32m   1721\u001b[0m         \u001b[0maxis\u001b[0m \u001b[1;33m=\u001b[0m \u001b[0mself\u001b[0m\u001b[1;33m.\u001b[0m\u001b[0m_get_axis_number\u001b[0m\u001b[1;33m(\u001b[0m\u001b[0maxis\u001b[0m\u001b[1;33m)\u001b[0m\u001b[1;33m\u001b[0m\u001b[1;33m\u001b[0m\u001b[0m\n\u001b[0;32m   1722\u001b[0m \u001b[1;33m\u001b[0m\u001b[0m\n\u001b[1;32m-> 1723\u001b[1;33m         return SeriesGroupBy(\n\u001b[0m\u001b[0;32m   1724\u001b[0m             \u001b[0mobj\u001b[0m\u001b[1;33m=\u001b[0m\u001b[0mself\u001b[0m\u001b[1;33m,\u001b[0m\u001b[1;33m\u001b[0m\u001b[1;33m\u001b[0m\u001b[0m\n\u001b[0;32m   1725\u001b[0m             \u001b[0mkeys\u001b[0m\u001b[1;33m=\u001b[0m\u001b[0mby\u001b[0m\u001b[1;33m,\u001b[0m\u001b[1;33m\u001b[0m\u001b[1;33m\u001b[0m\u001b[0m\n",
      "\u001b[1;32mc:\\python38\\lib\\site-packages\\pandas\\core\\groupby\\groupby.py\u001b[0m in \u001b[0;36m__init__\u001b[1;34m(self, obj, keys, axis, level, grouper, exclusions, selection, as_index, sort, group_keys, squeeze, observed, mutated, dropna)\u001b[0m\n\u001b[0;32m    523\u001b[0m             \u001b[1;32mfrom\u001b[0m \u001b[0mpandas\u001b[0m\u001b[1;33m.\u001b[0m\u001b[0mcore\u001b[0m\u001b[1;33m.\u001b[0m\u001b[0mgroupby\u001b[0m\u001b[1;33m.\u001b[0m\u001b[0mgrouper\u001b[0m \u001b[1;32mimport\u001b[0m \u001b[0mget_grouper\u001b[0m\u001b[1;33m\u001b[0m\u001b[1;33m\u001b[0m\u001b[0m\n\u001b[0;32m    524\u001b[0m \u001b[1;33m\u001b[0m\u001b[0m\n\u001b[1;32m--> 525\u001b[1;33m             grouper, exclusions, obj = get_grouper(\n\u001b[0m\u001b[0;32m    526\u001b[0m                 \u001b[0mobj\u001b[0m\u001b[1;33m,\u001b[0m\u001b[1;33m\u001b[0m\u001b[1;33m\u001b[0m\u001b[0m\n\u001b[0;32m    527\u001b[0m                 \u001b[0mkeys\u001b[0m\u001b[1;33m,\u001b[0m\u001b[1;33m\u001b[0m\u001b[1;33m\u001b[0m\u001b[0m\n",
      "\u001b[1;32mc:\\python38\\lib\\site-packages\\pandas\\core\\groupby\\grouper.py\u001b[0m in \u001b[0;36mget_grouper\u001b[1;34m(obj, key, axis, level, sort, observed, mutated, validate, dropna)\u001b[0m\n\u001b[0;32m    779\u001b[0m                 \u001b[0min_axis\u001b[0m\u001b[1;33m,\u001b[0m \u001b[0mname\u001b[0m\u001b[1;33m,\u001b[0m \u001b[0mlevel\u001b[0m\u001b[1;33m,\u001b[0m \u001b[0mgpr\u001b[0m \u001b[1;33m=\u001b[0m \u001b[1;32mFalse\u001b[0m\u001b[1;33m,\u001b[0m \u001b[1;32mNone\u001b[0m\u001b[1;33m,\u001b[0m \u001b[0mgpr\u001b[0m\u001b[1;33m,\u001b[0m \u001b[1;32mNone\u001b[0m\u001b[1;33m\u001b[0m\u001b[1;33m\u001b[0m\u001b[0m\n\u001b[0;32m    780\u001b[0m             \u001b[1;32melse\u001b[0m\u001b[1;33m:\u001b[0m\u001b[1;33m\u001b[0m\u001b[1;33m\u001b[0m\u001b[0m\n\u001b[1;32m--> 781\u001b[1;33m                 \u001b[1;32mraise\u001b[0m \u001b[0mKeyError\u001b[0m\u001b[1;33m(\u001b[0m\u001b[0mgpr\u001b[0m\u001b[1;33m)\u001b[0m\u001b[1;33m\u001b[0m\u001b[1;33m\u001b[0m\u001b[0m\n\u001b[0m\u001b[0;32m    782\u001b[0m         \u001b[1;32melif\u001b[0m \u001b[0misinstance\u001b[0m\u001b[1;33m(\u001b[0m\u001b[0mgpr\u001b[0m\u001b[1;33m,\u001b[0m \u001b[0mGrouper\u001b[0m\u001b[1;33m)\u001b[0m \u001b[1;32mand\u001b[0m \u001b[0mgpr\u001b[0m\u001b[1;33m.\u001b[0m\u001b[0mkey\u001b[0m \u001b[1;32mis\u001b[0m \u001b[1;32mnot\u001b[0m \u001b[1;32mNone\u001b[0m\u001b[1;33m:\u001b[0m\u001b[1;33m\u001b[0m\u001b[1;33m\u001b[0m\u001b[0m\n\u001b[0;32m    783\u001b[0m             \u001b[1;31m# Add key to exclusions\u001b[0m\u001b[1;33m\u001b[0m\u001b[1;33m\u001b[0m\u001b[1;33m\u001b[0m\u001b[0m\n",
      "\u001b[1;31mKeyError\u001b[0m: 'ANO'"
     ]
    }
   ],
   "source": [
    "plt.bar(result.GRAU_ESCOLARIDADE,result.counts, label=gf.ANO.unique())\n",
    "plt.bar(result.GRAU_ESCOLARIDADE,result.counts, label=df.ANO.unique())\n",
    "plt.bar(result.GRAU_ESCOLARIDADE,result.counts, label=lf.ANO.unique())\n",
    "plt.legend()\n"
   ]
  },
  {
   "cell_type": "code",
   "execution_count": 66,
   "metadata": {
    "scrolled": true
   },
   "outputs": [
    {
     "data": {
      "text/html": [
       "<div>\n",
       "<style scoped>\n",
       "    .dataframe tbody tr th:only-of-type {\n",
       "        vertical-align: middle;\n",
       "    }\n",
       "\n",
       "    .dataframe tbody tr th {\n",
       "        vertical-align: top;\n",
       "    }\n",
       "\n",
       "    .dataframe thead th {\n",
       "        text-align: right;\n",
       "    }\n",
       "</style>\n",
       "<table border=\"1\" class=\"dataframe\">\n",
       "  <thead>\n",
       "    <tr style=\"text-align: right;\">\n",
       "      <th></th>\n",
       "      <th>GRAU_ESCOLARIDADE</th>\n",
       "      <th>counts</th>\n",
       "      <th>ANO</th>\n",
       "    </tr>\n",
       "  </thead>\n",
       "  <tbody>\n",
       "    <tr>\n",
       "      <th>0</th>\n",
       "      <td>ENSINO MÉDIO COMPLETO</td>\n",
       "      <td>67253</td>\n",
       "      <td>2020</td>\n",
       "    </tr>\n",
       "    <tr>\n",
       "      <th>1</th>\n",
       "      <td>ENSINO FUNDAMENTAL INCOMPLETO</td>\n",
       "      <td>44991</td>\n",
       "      <td>2020</td>\n",
       "    </tr>\n",
       "    <tr>\n",
       "      <th>2</th>\n",
       "      <td>SUPERIOR COMPLETO</td>\n",
       "      <td>43551</td>\n",
       "      <td>2020</td>\n",
       "    </tr>\n",
       "    <tr>\n",
       "      <th>3</th>\n",
       "      <td>ENSINO MÉDIO INCOMPLETO</td>\n",
       "      <td>28574</td>\n",
       "      <td>2020</td>\n",
       "    </tr>\n",
       "    <tr>\n",
       "      <th>4</th>\n",
       "      <td>ENSINO FUNDAMENTAL COMPLETO</td>\n",
       "      <td>27013</td>\n",
       "      <td>2020</td>\n",
       "    </tr>\n",
       "    <tr>\n",
       "      <th>5</th>\n",
       "      <td>SUPERIOR INCOMPLETO</td>\n",
       "      <td>21578</td>\n",
       "      <td>2020</td>\n",
       "    </tr>\n",
       "    <tr>\n",
       "      <th>6</th>\n",
       "      <td>LÊ E ESCREVE</td>\n",
       "      <td>9594</td>\n",
       "      <td>2020</td>\n",
       "    </tr>\n",
       "    <tr>\n",
       "      <th>7</th>\n",
       "      <td>ANALFABETO</td>\n",
       "      <td>6738</td>\n",
       "      <td>2020</td>\n",
       "    </tr>\n",
       "    <tr>\n",
       "      <th>0</th>\n",
       "      <td>ENSINO FUNDAMENTAL INCOMPLETO</td>\n",
       "      <td>39370</td>\n",
       "      <td>2012</td>\n",
       "    </tr>\n",
       "    <tr>\n",
       "      <th>1</th>\n",
       "      <td>ENSINO MÉDIO COMPLETO</td>\n",
       "      <td>34565</td>\n",
       "      <td>2012</td>\n",
       "    </tr>\n",
       "    <tr>\n",
       "      <th>2</th>\n",
       "      <td>ENSINO FUNDAMENTAL COMPLETO</td>\n",
       "      <td>22671</td>\n",
       "      <td>2012</td>\n",
       "    </tr>\n",
       "    <tr>\n",
       "      <th>3</th>\n",
       "      <td>ENSINO MÉDIO INCOMPLETO</td>\n",
       "      <td>21558</td>\n",
       "      <td>2012</td>\n",
       "    </tr>\n",
       "    <tr>\n",
       "      <th>4</th>\n",
       "      <td>SUPERIOR COMPLETO</td>\n",
       "      <td>16161</td>\n",
       "      <td>2012</td>\n",
       "    </tr>\n",
       "    <tr>\n",
       "      <th>5</th>\n",
       "      <td>LÊ E ESCREVE</td>\n",
       "      <td>13653</td>\n",
       "      <td>2012</td>\n",
       "    </tr>\n",
       "    <tr>\n",
       "      <th>6</th>\n",
       "      <td>SUPERIOR INCOMPLETO</td>\n",
       "      <td>10830</td>\n",
       "      <td>2012</td>\n",
       "    </tr>\n",
       "    <tr>\n",
       "      <th>7</th>\n",
       "      <td>ANALFABETO</td>\n",
       "      <td>6325</td>\n",
       "      <td>2012</td>\n",
       "    </tr>\n",
       "    <tr>\n",
       "      <th>0</th>\n",
       "      <td>ENSINO MÉDIO COMPLETO</td>\n",
       "      <td>43491</td>\n",
       "      <td>2016</td>\n",
       "    </tr>\n",
       "    <tr>\n",
       "      <th>1</th>\n",
       "      <td>ENSINO FUNDAMENTAL INCOMPLETO</td>\n",
       "      <td>41544</td>\n",
       "      <td>2016</td>\n",
       "    </tr>\n",
       "    <tr>\n",
       "      <th>2</th>\n",
       "      <td>ENSINO MÉDIO INCOMPLETO</td>\n",
       "      <td>24780</td>\n",
       "      <td>2016</td>\n",
       "    </tr>\n",
       "    <tr>\n",
       "      <th>3</th>\n",
       "      <td>ENSINO FUNDAMENTAL COMPLETO</td>\n",
       "      <td>23813</td>\n",
       "      <td>2016</td>\n",
       "    </tr>\n",
       "    <tr>\n",
       "      <th>4</th>\n",
       "      <td>SUPERIOR COMPLETO</td>\n",
       "      <td>22213</td>\n",
       "      <td>2016</td>\n",
       "    </tr>\n",
       "    <tr>\n",
       "      <th>5</th>\n",
       "      <td>SUPERIOR INCOMPLETO</td>\n",
       "      <td>14183</td>\n",
       "      <td>2016</td>\n",
       "    </tr>\n",
       "    <tr>\n",
       "      <th>6</th>\n",
       "      <td>LÊ E ESCREVE</td>\n",
       "      <td>12610</td>\n",
       "      <td>2016</td>\n",
       "    </tr>\n",
       "    <tr>\n",
       "      <th>7</th>\n",
       "      <td>ANALFABETO</td>\n",
       "      <td>6296</td>\n",
       "      <td>2016</td>\n",
       "    </tr>\n",
       "  </tbody>\n",
       "</table>\n",
       "</div>"
      ],
      "text/plain": [
       "               GRAU_ESCOLARIDADE  counts   ANO\n",
       "0          ENSINO MÉDIO COMPLETO   67253  2020\n",
       "1  ENSINO FUNDAMENTAL INCOMPLETO   44991  2020\n",
       "2              SUPERIOR COMPLETO   43551  2020\n",
       "3        ENSINO MÉDIO INCOMPLETO   28574  2020\n",
       "4    ENSINO FUNDAMENTAL COMPLETO   27013  2020\n",
       "5            SUPERIOR INCOMPLETO   21578  2020\n",
       "6                   LÊ E ESCREVE    9594  2020\n",
       "7                     ANALFABETO    6738  2020\n",
       "0  ENSINO FUNDAMENTAL INCOMPLETO   39370  2012\n",
       "1          ENSINO MÉDIO COMPLETO   34565  2012\n",
       "2    ENSINO FUNDAMENTAL COMPLETO   22671  2012\n",
       "3        ENSINO MÉDIO INCOMPLETO   21558  2012\n",
       "4              SUPERIOR COMPLETO   16161  2012\n",
       "5                   LÊ E ESCREVE   13653  2012\n",
       "6            SUPERIOR INCOMPLETO   10830  2012\n",
       "7                     ANALFABETO    6325  2012\n",
       "0          ENSINO MÉDIO COMPLETO   43491  2016\n",
       "1  ENSINO FUNDAMENTAL INCOMPLETO   41544  2016\n",
       "2        ENSINO MÉDIO INCOMPLETO   24780  2016\n",
       "3    ENSINO FUNDAMENTAL COMPLETO   23813  2016\n",
       "4              SUPERIOR COMPLETO   22213  2016\n",
       "5            SUPERIOR INCOMPLETO   14183  2016\n",
       "6                   LÊ E ESCREVE   12610  2016\n",
       "7                     ANALFABETO    6296  2016"
      ]
     },
     "execution_count": 66,
     "metadata": {},
     "output_type": "execute_result"
    }
   ],
   "source": [
    "result = pd.concat([gf,lf,df])\n",
    "result"
   ]
  },
  {
   "cell_type": "code",
   "execution_count": 176,
   "metadata": {},
   "outputs": [
    {
     "data": {
      "text/plain": [
       "<matplotlib.legend.Legend at 0x26f646fc670>"
      ]
     },
     "execution_count": 176,
     "metadata": {},
     "output_type": "execute_result"
    },
    {
     "data": {
      "image/png": "[encoded data removed]",
      "text/plain": [
       "<Figure size 432x288 with 1 Axes>"
      ]
     },
     "metadata": {
      "needs_background": "light"
     },
     "output_type": "display_data"
    }
   ],
   "source": [
    "import numpy as np\n",
    "\n",
    "x = np.arange(len(result['GRAU_ESCOLARIDADE'].unique()))\n",
    "s=0.3\n",
    "width = 0.3 \n",
    "\n",
    "fig, ax = plt.subplots()\n",
    "plt.bar(x-s,result[result.ANO == 2020]['counts'],width, label='2020')\n",
    "plt.bar(x,result[result.ANO == 2016]['counts'],width, label='2016')\n",
    "plt.bar(x+s,result[result.ANO == 2012]['counts'],width, label='2012')\n",
    "\n",
    "ax.set_title('Analise perfil eleitorado ultimas 3 eleições (prefeitos/vereadores)')\n",
    "plt.xticks(x, rotation=90)\n",
    "ax.set_xticks(x)\n",
    "ax.set_xticklabels(result['GRAU_ESCOLARIDADE'].unique())\n",
    "\n",
    "ax.legend()"
   ]
  },
  {
   "cell_type": "code",
   "execution_count": null,
   "metadata": {},
   "outputs": [],
   "source": [
    "prob = x\n",
    "threshold = 0.02\n",
    "mask = prob > threshold\n",
    "tail_prob = prob.loc[~mask].sum()\n",
    "prob = prob.loc[mask]"
   ]
  },
  {
   "cell_type": "code",
   "execution_count": 123,
   "metadata": {
    "scrolled": true
   },
   "outputs": [
    {
     "ename": "ConversionError",
     "evalue": "Failed to convert value(s) to axis units: array(['ENSINO MÉDIO COMPLETO', 'ENSINO FUNDAMENTAL INCOMPLETO',\n       'SUPERIOR COMPLETO', 'ENSINO MÉDIO INCOMPLETO',\n       'ENSINO FUNDAMENTAL COMPLETO', 'SUPERIOR INCOMPLETO',\n       'LÊ E ESCREVE', 'ANALFABETO'], dtype=object)",
     "output_type": "error",
     "traceback": [
      "\u001b[1;31m---------------------------------------------------------------------------\u001b[0m",
      "\u001b[1;31mValueError\u001b[0m                                Traceback (most recent call last)",
      "\u001b[1;32mc:\\python38\\lib\\site-packages\\matplotlib\\axis.py\u001b[0m in \u001b[0;36mconvert_units\u001b[1;34m(self, x)\u001b[0m\n\u001b[0;32m   1519\u001b[0m         \u001b[1;32mtry\u001b[0m\u001b[1;33m:\u001b[0m\u001b[1;33m\u001b[0m\u001b[1;33m\u001b[0m\u001b[0m\n\u001b[1;32m-> 1520\u001b[1;33m             \u001b[0mret\u001b[0m \u001b[1;33m=\u001b[0m \u001b[0mself\u001b[0m\u001b[1;33m.\u001b[0m\u001b[0mconverter\u001b[0m\u001b[1;33m.\u001b[0m\u001b[0mconvert\u001b[0m\u001b[1;33m(\u001b[0m\u001b[0mx\u001b[0m\u001b[1;33m,\u001b[0m \u001b[0mself\u001b[0m\u001b[1;33m.\u001b[0m\u001b[0munits\u001b[0m\u001b[1;33m,\u001b[0m \u001b[0mself\u001b[0m\u001b[1;33m)\u001b[0m\u001b[1;33m\u001b[0m\u001b[1;33m\u001b[0m\u001b[0m\n\u001b[0m\u001b[0;32m   1521\u001b[0m         \u001b[1;32mexcept\u001b[0m \u001b[0mException\u001b[0m \u001b[1;32mas\u001b[0m \u001b[0me\u001b[0m\u001b[1;33m:\u001b[0m\u001b[1;33m\u001b[0m\u001b[1;33m\u001b[0m\u001b[0m\n",
      "\u001b[1;32mc:\\python38\\lib\\site-packages\\matplotlib\\category.py\u001b[0m in \u001b[0;36mconvert\u001b[1;34m(value, unit, axis)\u001b[0m\n\u001b[0;32m     48\u001b[0m         \u001b[1;32mif\u001b[0m \u001b[0munit\u001b[0m \u001b[1;32mis\u001b[0m \u001b[1;32mNone\u001b[0m\u001b[1;33m:\u001b[0m\u001b[1;33m\u001b[0m\u001b[1;33m\u001b[0m\u001b[0m\n\u001b[1;32m---> 49\u001b[1;33m             raise ValueError(\n\u001b[0m\u001b[0;32m     50\u001b[0m                 \u001b[1;34m'Missing category information for StrCategoryConverter; '\u001b[0m\u001b[1;33m\u001b[0m\u001b[1;33m\u001b[0m\u001b[0m\n",
      "\u001b[1;31mValueError\u001b[0m: Missing category information for StrCategoryConverter; this might be caused by unintendedly mixing categorical and numeric data",
      "\nThe above exception was the direct cause of the following exception:\n",
      "\u001b[1;31mConversionError\u001b[0m                           Traceback (most recent call last)",
      "\u001b[1;32m<ipython-input-123-440c6be4466f>\u001b[0m in \u001b[0;36m<module>\u001b[1;34m\u001b[0m\n\u001b[0;32m      1\u001b[0m \u001b[0mplt\u001b[0m\u001b[1;33m.\u001b[0m\u001b[0mbar\u001b[0m\u001b[1;33m(\u001b[0m\u001b[0mresult\u001b[0m\u001b[1;33m[\u001b[0m\u001b[1;34m'GRAU_ESCOLARIDADE'\u001b[0m\u001b[1;33m]\u001b[0m\u001b[1;33m.\u001b[0m\u001b[0munique\u001b[0m\u001b[1;33m(\u001b[0m\u001b[1;33m)\u001b[0m\u001b[1;33m,\u001b[0m\u001b[0mresult\u001b[0m\u001b[1;33m[\u001b[0m\u001b[0mresult\u001b[0m\u001b[1;33m.\u001b[0m\u001b[0mANO\u001b[0m \u001b[1;33m==\u001b[0m \u001b[1;36m2020\u001b[0m\u001b[1;33m]\u001b[0m\u001b[1;33m[\u001b[0m\u001b[1;34m'counts'\u001b[0m\u001b[1;33m]\u001b[0m\u001b[1;33m,\u001b[0m \u001b[0mlabel\u001b[0m\u001b[1;33m=\u001b[0m\u001b[1;34m'2020'\u001b[0m\u001b[1;33m)\u001b[0m\u001b[1;33m\u001b[0m\u001b[1;33m\u001b[0m\u001b[0m\n\u001b[1;32m----> 2\u001b[1;33m \u001b[0mplt\u001b[0m\u001b[1;33m.\u001b[0m\u001b[0myticks\u001b[0m\u001b[1;33m(\u001b[0m\u001b[0mresult\u001b[0m\u001b[1;33m[\u001b[0m\u001b[1;34m'GRAU_ESCOLARIDADE'\u001b[0m\u001b[1;33m]\u001b[0m\u001b[1;33m.\u001b[0m\u001b[0munique\u001b[0m\u001b[1;33m(\u001b[0m\u001b[1;33m)\u001b[0m\u001b[1;33m)\u001b[0m\u001b[1;33m\u001b[0m\u001b[1;33m\u001b[0m\u001b[0m\n\u001b[0m",
      "\u001b[1;32mc:\\python38\\lib\\site-packages\\matplotlib\\pyplot.py\u001b[0m in \u001b[0;36myticks\u001b[1;34m(ticks, labels, **kwargs)\u001b[0m\n\u001b[0;32m   1712\u001b[0m                             \"without setting 'ticks'\")\n\u001b[0;32m   1713\u001b[0m     \u001b[1;32melse\u001b[0m\u001b[1;33m:\u001b[0m\u001b[1;33m\u001b[0m\u001b[1;33m\u001b[0m\u001b[0m\n\u001b[1;32m-> 1714\u001b[1;33m         \u001b[0mlocs\u001b[0m \u001b[1;33m=\u001b[0m \u001b[0max\u001b[0m\u001b[1;33m.\u001b[0m\u001b[0mset_yticks\u001b[0m\u001b[1;33m(\u001b[0m\u001b[0mticks\u001b[0m\u001b[1;33m)\u001b[0m\u001b[1;33m\u001b[0m\u001b[1;33m\u001b[0m\u001b[0m\n\u001b[0m\u001b[0;32m   1715\u001b[0m \u001b[1;33m\u001b[0m\u001b[0m\n\u001b[0;32m   1716\u001b[0m     \u001b[1;32mif\u001b[0m \u001b[0mlabels\u001b[0m \u001b[1;32mis\u001b[0m \u001b[1;32mNone\u001b[0m\u001b[1;33m:\u001b[0m\u001b[1;33m\u001b[0m\u001b[1;33m\u001b[0m\u001b[0m\n",
      "\u001b[1;32mc:\\python38\\lib\\site-packages\\matplotlib\\axes\\_base.py\u001b[0m in \u001b[0;36mwrapper\u001b[1;34m(self, *args, **kwargs)\u001b[0m\n\u001b[0;32m     61\u001b[0m \u001b[1;33m\u001b[0m\u001b[0m\n\u001b[0;32m     62\u001b[0m         \u001b[1;32mdef\u001b[0m \u001b[0mwrapper\u001b[0m\u001b[1;33m(\u001b[0m\u001b[0mself\u001b[0m\u001b[1;33m,\u001b[0m \u001b[1;33m*\u001b[0m\u001b[0margs\u001b[0m\u001b[1;33m,\u001b[0m \u001b[1;33m**\u001b[0m\u001b[0mkwargs\u001b[0m\u001b[1;33m)\u001b[0m\u001b[1;33m:\u001b[0m\u001b[1;33m\u001b[0m\u001b[1;33m\u001b[0m\u001b[0m\n\u001b[1;32m---> 63\u001b[1;33m             \u001b[1;32mreturn\u001b[0m \u001b[0mget_method\u001b[0m\u001b[1;33m(\u001b[0m\u001b[0mself\u001b[0m\u001b[1;33m)\u001b[0m\u001b[1;33m(\u001b[0m\u001b[1;33m*\u001b[0m\u001b[0margs\u001b[0m\u001b[1;33m,\u001b[0m \u001b[1;33m**\u001b[0m\u001b[0mkwargs\u001b[0m\u001b[1;33m)\u001b[0m\u001b[1;33m\u001b[0m\u001b[1;33m\u001b[0m\u001b[0m\n\u001b[0m\u001b[0;32m     64\u001b[0m \u001b[1;33m\u001b[0m\u001b[0m\n\u001b[0;32m     65\u001b[0m         \u001b[0mwrapper\u001b[0m\u001b[1;33m.\u001b[0m\u001b[0m__module__\u001b[0m \u001b[1;33m=\u001b[0m \u001b[0mowner\u001b[0m\u001b[1;33m.\u001b[0m\u001b[0m__module__\u001b[0m\u001b[1;33m\u001b[0m\u001b[1;33m\u001b[0m\u001b[0m\n",
      "\u001b[1;32mc:\\python38\\lib\\site-packages\\matplotlib\\cbook\\deprecation.py\u001b[0m in \u001b[0;36mwrapper\u001b[1;34m(*args, **kwargs)\u001b[0m\n\u001b[0;32m    449\u001b[0m                 \u001b[1;34m\"parameter will become keyword-only %(removal)s.\"\u001b[0m\u001b[1;33m,\u001b[0m\u001b[1;33m\u001b[0m\u001b[1;33m\u001b[0m\u001b[0m\n\u001b[0;32m    450\u001b[0m                 name=name, obj_type=f\"parameter of {func.__name__}()\")\n\u001b[1;32m--> 451\u001b[1;33m         \u001b[1;32mreturn\u001b[0m \u001b[0mfunc\u001b[0m\u001b[1;33m(\u001b[0m\u001b[1;33m*\u001b[0m\u001b[0margs\u001b[0m\u001b[1;33m,\u001b[0m \u001b[1;33m**\u001b[0m\u001b[0mkwargs\u001b[0m\u001b[1;33m)\u001b[0m\u001b[1;33m\u001b[0m\u001b[1;33m\u001b[0m\u001b[0m\n\u001b[0m\u001b[0;32m    452\u001b[0m \u001b[1;33m\u001b[0m\u001b[0m\n\u001b[0;32m    453\u001b[0m     \u001b[1;32mreturn\u001b[0m \u001b[0mwrapper\u001b[0m\u001b[1;33m\u001b[0m\u001b[1;33m\u001b[0m\u001b[0m\n",
      "\u001b[1;32mc:\\python38\\lib\\site-packages\\matplotlib\\axis.py\u001b[0m in \u001b[0;36mset_ticks\u001b[1;34m(self, ticks, minor)\u001b[0m\n\u001b[0;32m   1806\u001b[0m         \"\"\"\n\u001b[0;32m   1807\u001b[0m         \u001b[1;31m# XXX if the user changes units, the information will be lost here\u001b[0m\u001b[1;33m\u001b[0m\u001b[1;33m\u001b[0m\u001b[1;33m\u001b[0m\u001b[0m\n\u001b[1;32m-> 1808\u001b[1;33m         \u001b[0mticks\u001b[0m \u001b[1;33m=\u001b[0m \u001b[0mself\u001b[0m\u001b[1;33m.\u001b[0m\u001b[0mconvert_units\u001b[0m\u001b[1;33m(\u001b[0m\u001b[0mticks\u001b[0m\u001b[1;33m)\u001b[0m\u001b[1;33m\u001b[0m\u001b[1;33m\u001b[0m\u001b[0m\n\u001b[0m\u001b[0;32m   1809\u001b[0m         \u001b[1;32mif\u001b[0m \u001b[0mlen\u001b[0m\u001b[1;33m(\u001b[0m\u001b[0mticks\u001b[0m\u001b[1;33m)\u001b[0m \u001b[1;33m>\u001b[0m \u001b[1;36m1\u001b[0m\u001b[1;33m:\u001b[0m\u001b[1;33m\u001b[0m\u001b[1;33m\u001b[0m\u001b[0m\n\u001b[0;32m   1810\u001b[0m             \u001b[0mxleft\u001b[0m\u001b[1;33m,\u001b[0m \u001b[0mxright\u001b[0m \u001b[1;33m=\u001b[0m \u001b[0mself\u001b[0m\u001b[1;33m.\u001b[0m\u001b[0mget_view_interval\u001b[0m\u001b[1;33m(\u001b[0m\u001b[1;33m)\u001b[0m\u001b[1;33m\u001b[0m\u001b[1;33m\u001b[0m\u001b[0m\n",
      "\u001b[1;32mc:\\python38\\lib\\site-packages\\matplotlib\\axis.py\u001b[0m in \u001b[0;36mconvert_units\u001b[1;34m(self, x)\u001b[0m\n\u001b[0;32m   1520\u001b[0m             \u001b[0mret\u001b[0m \u001b[1;33m=\u001b[0m \u001b[0mself\u001b[0m\u001b[1;33m.\u001b[0m\u001b[0mconverter\u001b[0m\u001b[1;33m.\u001b[0m\u001b[0mconvert\u001b[0m\u001b[1;33m(\u001b[0m\u001b[0mx\u001b[0m\u001b[1;33m,\u001b[0m \u001b[0mself\u001b[0m\u001b[1;33m.\u001b[0m\u001b[0munits\u001b[0m\u001b[1;33m,\u001b[0m \u001b[0mself\u001b[0m\u001b[1;33m)\u001b[0m\u001b[1;33m\u001b[0m\u001b[1;33m\u001b[0m\u001b[0m\n\u001b[0;32m   1521\u001b[0m         \u001b[1;32mexcept\u001b[0m \u001b[0mException\u001b[0m \u001b[1;32mas\u001b[0m \u001b[0me\u001b[0m\u001b[1;33m:\u001b[0m\u001b[1;33m\u001b[0m\u001b[1;33m\u001b[0m\u001b[0m\n\u001b[1;32m-> 1522\u001b[1;33m             raise munits.ConversionError('Failed to convert value(s) to axis '\n\u001b[0m\u001b[0;32m   1523\u001b[0m                                          f'units: {x!r}') from e\n\u001b[0;32m   1524\u001b[0m         \u001b[1;32mreturn\u001b[0m \u001b[0mret\u001b[0m\u001b[1;33m\u001b[0m\u001b[1;33m\u001b[0m\u001b[0m\n",
      "\u001b[1;31mConversionError\u001b[0m: Failed to convert value(s) to axis units: array(['ENSINO MÉDIO COMPLETO', 'ENSINO FUNDAMENTAL INCOMPLETO',\n       'SUPERIOR COMPLETO', 'ENSINO MÉDIO INCOMPLETO',\n       'ENSINO FUNDAMENTAL COMPLETO', 'SUPERIOR INCOMPLETO',\n       'LÊ E ESCREVE', 'ANALFABETO'], dtype=object)"
     ]
    },
    {
     "data": {
      "image/png": "[encoded data removed]",
      "text/plain": [
       "<Figure size 432x288 with 1 Axes>"
      ]
     },
     "metadata": {
      "needs_background": "light"
     },
     "output_type": "display_data"
    }
   ],
   "source": [
    "plt.bar(result['GRAU_ESCOLARIDADE'].unique(),result[result.ANO == 2020]['counts'], label='2020')\n"
   ]
  },
  {
   "cell_type": "code",
   "execution_count": 140,
   "metadata": {},
   "outputs": [
    {
     "data": {
      "text/plain": [
       "<AxesSubplot:>"
      ]
     },
     "execution_count": 140,
     "metadata": {},
     "output_type": "execute_result"
    },
    {
     "data": {
      "image/png": "[encoded data removed]",
      "text/plain": [
       "<Figure size 432x288 with 1 Axes>"
      ]
     },
     "metadata": {
      "needs_background": "light"
     },
     "output_type": "display_data"
    }
   ],
   "source": [
    "result.plot.bar()"
   ]
  }
 ],
 "metadata": {
  "kernelspec": {
   "display_name": "Python 3",
   "language": "python",
   "name": "python3"
  },
  "language_info": {
   "codemirror_mode": {
    "name": "ipython",
    "version": 3
   },
   "file_extension": ".py",
   "mimetype": "text/x-python",
   "name": "python",
   "nbconvert_exporter": "python",
   "pygments_lexer": "ipython3",
   "version": "3.8.3"
  }
 },
 "nbformat": 4,
 "nbformat_minor": 4
}
